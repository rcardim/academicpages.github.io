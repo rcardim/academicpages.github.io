{
 "cells": [
  {
   "cell_type": "markdown",
   "metadata": {},
   "source": [
    "# Publications markdown generator for academicpages\n",
    "\n",
    "Takes a TSV of publications with metadata and converts them for use with [academicpages.github.io](academicpages.github.io). This is an interactive Jupyter notebook ([see more info here](http://jupyter-notebook-beginner-guide.readthedocs.io/en/latest/what_is_jupyter.html)). The core python code is also in `publications.py`. Run either from the `markdown_generator` folder after replacing `publications.tsv` with one containing your data.\n",
    "\n",
    "TODO: Make this work with BibTex and other databases of citations, rather than Stuart's non-standard TSV format and citation style.\n"
   ]
  },
  {
   "cell_type": "markdown",
   "metadata": {},
   "source": [
    "## Data format\n",
    "\n",
    "The TSV needs to have the following columns: pub_date, title, venue, excerpt, citation, site_url, and paper_url, with a header at the top. \n",
    "\n",
    "- `excerpt` and `paper_url` can be blank, but the others must have values. \n",
    "- `pub_date` must be formatted as YYYY-MM-DD.\n",
    "- `url_slug` will be the descriptive part of the .md file and the permalink URL for the page about the paper. The .md file will be `YYYY-MM-DD-[url_slug].md` and the permalink will be `https://[yourdomain]/publications/YYYY-MM-DD-[url_slug]`\n",
    "\n",
    "This is how the raw file looks (it doesn't look pretty, use a spreadsheet or other program to edit and create)."
   ]
  },
  {
   "cell_type": "code",
   "execution_count": 1,
   "metadata": {},
   "outputs": [
    {
     "name": "stderr",
     "output_type": "stream",
     "text": [
      "'cat' is not recognized as an internal or external command,\n",
      "operable program or batch file.\n"
     ]
    }
   ],
   "source": [
    "!cat publicationsold.tsv"
   ]
  },
  {
   "cell_type": "markdown",
   "metadata": {},
   "source": [
    "## Import pandas\n",
    "\n",
    "We are using the very handy pandas library for dataframes."
   ]
  },
  {
   "cell_type": "code",
   "execution_count": 1,
   "metadata": {},
   "outputs": [],
   "source": [
    "import pandas as pd"
   ]
  },
  {
   "cell_type": "markdown",
   "metadata": {},
   "source": [
    "## Import TSV\n",
    "\n",
    "Pandas makes this easy with the read_csv function. We are using a TSV, so we specify the separator as a tab, or `\\t`.\n",
    "\n",
    "I found it important to put this data in a tab-separated values format, because there are a lot of commas in this kind of data and comma-separated values can get messed up. However, you can modify the import statement, as pandas also has read_excel(), read_json(), and others."
   ]
  },
  {
   "cell_type": "code",
   "execution_count": 16,
   "metadata": {},
   "outputs": [
    {
     "data": {
      "text/html": [
       "<div>\n",
       "<style scoped>\n",
       "    .dataframe tbody tr th:only-of-type {\n",
       "        vertical-align: middle;\n",
       "    }\n",
       "\n",
       "    .dataframe tbody tr th {\n",
       "        vertical-align: top;\n",
       "    }\n",
       "\n",
       "    .dataframe thead th {\n",
       "        text-align: right;\n",
       "    }\n",
       "</style>\n",
       "<table border=\"1\" class=\"dataframe\">\n",
       "  <thead>\n",
       "    <tr style=\"text-align: right;\">\n",
       "      <th></th>\n",
       "      <th>pub_date</th>\n",
       "      <th>title</th>\n",
       "      <th>venue</th>\n",
       "      <th>excerpt</th>\n",
       "      <th>url_slug</th>\n",
       "      <th>paper_url</th>\n",
       "    </tr>\n",
       "  </thead>\n",
       "  <tbody>\n",
       "    <tr>\n",
       "      <th>0</th>\n",
       "      <td>2024-06-03</td>\n",
       "      <td>A review on microbiological source attribution...</td>\n",
       "      <td>Foodborne pathogens and disease</td>\n",
       "      <td>_Salmonella_ is one of the main causes of huma...</td>\n",
       "      <td>source-att-salmonella-review</td>\n",
       "      <td>https://doi.org/10.1089/fpd.2023.0075</td>\n",
       "    </tr>\n",
       "    <tr>\n",
       "      <th>1</th>\n",
       "      <td>2022-06-01</td>\n",
       "      <td>Mathematical modeling of COVID-19 in British C...</td>\n",
       "      <td>Epidemics</td>\n",
       "      <td>Following the emergence of COVID-19 at the end...</td>\n",
       "      <td>age-structured-bc-COVID</td>\n",
       "      <td>https://doi.org/10.1016/j.epidem.2022.100559  ...</td>\n",
       "    </tr>\n",
       "    <tr>\n",
       "      <th>2</th>\n",
       "      <td>2021-06-01</td>\n",
       "      <td>How much leeway is there to relax COVID-19 con...</td>\n",
       "      <td>Epidemics</td>\n",
       "      <td>NaN</td>\n",
       "      <td>leeway</td>\n",
       "      <td>http://academicpages.github.io/files/paper1.pdf</td>\n",
       "    </tr>\n",
       "    <tr>\n",
       "      <th>3</th>\n",
       "      <td>2021-04-08</td>\n",
       "      <td>Importance of COVID-19 vaccine efficacy in old...</td>\n",
       "      <td>Vaccine</td>\n",
       "      <td>NaN</td>\n",
       "      <td>vaccine</td>\n",
       "      <td>http://academicpages.github.io/files/paper1.pdf</td>\n",
       "    </tr>\n",
       "    <tr>\n",
       "      <th>4</th>\n",
       "      <td>2020-12-03</td>\n",
       "      <td>Quantifying the impact of COVID-19 control mea...</td>\n",
       "      <td>PLoS Computational Biology</td>\n",
       "      <td>NaN</td>\n",
       "      <td>paper-bayesian-phys-distancing</td>\n",
       "      <td>http://academicpages.github.io/files/paper2.pdf</td>\n",
       "    </tr>\n",
       "    <tr>\n",
       "      <th>5</th>\n",
       "      <td>2020-02-10</td>\n",
       "      <td>Diffusion analysis of single particle trajecto...</td>\n",
       "      <td>Physical Biology</td>\n",
       "      <td>NaN</td>\n",
       "      <td>nonparametrics-bayes-spt</td>\n",
       "      <td>http://academicpages.github.io/files/paper3.pdf</td>\n",
       "    </tr>\n",
       "    <tr>\n",
       "      <th>6</th>\n",
       "      <td>2017-09-12</td>\n",
       "      <td>Limitations of Qdot labelling compared to dire...</td>\n",
       "      <td>Scientific reports</td>\n",
       "      <td>NaN</td>\n",
       "      <td>cy3-quantum-dot</td>\n",
       "      <td>http://academicpages.github.io/files/paper3.pdf</td>\n",
       "    </tr>\n",
       "    <tr>\n",
       "      <th>7</th>\n",
       "      <td>2014-09-22</td>\n",
       "      <td>Fragmentation of brittle plates by localized i...</td>\n",
       "      <td>Applied Physics Letters</td>\n",
       "      <td>We address the fragmentation of thin, brittle...</td>\n",
       "      <td>fragmentation-plates</td>\n",
       "      <td>http://academicpages.github.io/files/paper3.pdf</td>\n",
       "    </tr>\n",
       "  </tbody>\n",
       "</table>\n",
       "</div>"
      ],
      "text/plain": [
       "      pub_date                                              title  \\\n",
       "0   2024-06-03  A review on microbiological source attribution...   \n",
       "1  2022-06-01   Mathematical modeling of COVID-19 in British C...   \n",
       "2   2021-06-01  How much leeway is there to relax COVID-19 con...   \n",
       "3   2021-04-08  Importance of COVID-19 vaccine efficacy in old...   \n",
       "4   2020-12-03  Quantifying the impact of COVID-19 control mea...   \n",
       "5   2020-02-10  Diffusion analysis of single particle trajecto...   \n",
       "6   2017-09-12  Limitations of Qdot labelling compared to dire...   \n",
       "7   2014-09-22  Fragmentation of brittle plates by localized i...   \n",
       "\n",
       "                             venue  \\\n",
       "0  Foodborne pathogens and disease   \n",
       "1                        Epidemics   \n",
       "2                        Epidemics   \n",
       "3                          Vaccine   \n",
       "4       PLoS Computational Biology   \n",
       "5                 Physical Biology   \n",
       "6               Scientific reports   \n",
       "7          Applied Physics Letters   \n",
       "\n",
       "                                             excerpt  \\\n",
       "0  _Salmonella_ is one of the main causes of huma...   \n",
       "1  Following the emergence of COVID-19 at the end...   \n",
       "2                                                NaN   \n",
       "3                                                NaN   \n",
       "4                                                NaN   \n",
       "5                                                NaN   \n",
       "6                                                NaN   \n",
       "7   We address the fragmentation of thin, brittle...   \n",
       "\n",
       "                         url_slug  \\\n",
       "0    source-att-salmonella-review   \n",
       "1         age-structured-bc-COVID   \n",
       "2                          leeway   \n",
       "3                         vaccine   \n",
       "4  paper-bayesian-phys-distancing   \n",
       "5        nonparametrics-bayes-spt   \n",
       "6                 cy3-quantum-dot   \n",
       "7            fragmentation-plates   \n",
       "\n",
       "                                           paper_url  \n",
       "0              https://doi.org/10.1089/fpd.2023.0075  \n",
       "1  https://doi.org/10.1016/j.epidem.2022.100559  ...  \n",
       "2    http://academicpages.github.io/files/paper1.pdf  \n",
       "3    http://academicpages.github.io/files/paper1.pdf  \n",
       "4    http://academicpages.github.io/files/paper2.pdf  \n",
       "5    http://academicpages.github.io/files/paper3.pdf  \n",
       "6    http://academicpages.github.io/files/paper3.pdf  \n",
       "7    http://academicpages.github.io/files/paper3.pdf  "
      ]
     },
     "execution_count": 16,
     "metadata": {},
     "output_type": "execute_result"
    }
   ],
   "source": [
    "publications = pd.read_csv(\"publications.tsv\", sep=\"\\t\", header=0)\n",
    "publications\n"
   ]
  },
  {
   "cell_type": "markdown",
   "metadata": {},
   "source": [
    "## Escape special characters\n",
    "\n",
    "YAML is very picky about how it takes a valid string, so we are replacing single and double quotes (and ampersands) with their HTML encoded equivilents. This makes them look not so readable in raw format, but they are parsed and rendered nicely."
   ]
  },
  {
   "cell_type": "code",
   "execution_count": 17,
   "metadata": {},
   "outputs": [],
   "source": [
    "html_escape_table = {\n",
    "    \"&\": \"&amp;\",\n",
    "    '\"': \"&quot;\",\n",
    "    \"'\": \"&apos;\"\n",
    "    }\n",
    "\n",
    "def html_escape(text):\n",
    "    \"\"\"Produce entities within text.\"\"\"\n",
    "    return \"\".join(html_escape_table.get(c,c) for c in text)"
   ]
  },
  {
   "cell_type": "markdown",
   "metadata": {},
   "source": [
    "## Creating the markdown files\n",
    "\n",
    "This is where the heavy lifting is done. This loops through all the rows in the TSV dataframe, then starts to concatentate a big string (```md```) that contains the markdown for each type. It does the YAML metadata first, then does the description for the individual page."
   ]
  },
  {
   "cell_type": "code",
   "execution_count": 19,
   "metadata": {},
   "outputs": [
    {
     "name": "stdout",
     "output_type": "stream",
     "text": [
      "2024-06-03-source-att-salmonella-review.md\n",
      "2022-06-01 -age-structured-bc-COVID.md\n",
      "2021-06-01-leeway.md\n",
      "2021-04-08-vaccine.md\n",
      "2020-12-03-paper-bayesian-phys-distancing.md\n",
      "2020-02-10-nonparametrics-bayes-spt.md\n",
      "2017-09-12-cy3-quantum-dot.md\n",
      "2014-09-22-fragmentation-plates.md\n"
     ]
    }
   ],
   "source": [
    "import os\n",
    "for row, item in publications.iterrows():\n",
    "    \n",
    "    md_filename = str(item.pub_date) + \"-\" + item.url_slug + \".md\"\n",
    "    html_filename = str(item.pub_date) + \"-\" + item.url_slug\n",
    "    year = item.pub_date[:4]\n",
    "    \n",
    "    ## YAML variables\n",
    "    \n",
    "    md = \"---\\ntitle: \\\"\"   + item.title + '\"\\n'\n",
    "    \n",
    "    md += \"\"\"collection: publications\"\"\"\n",
    "    \n",
    "    md += \"\"\"\\npermalink: /publication/\"\"\" + html_filename\n",
    "    \n",
    "    if len(str(item.excerpt)) > 5:\n",
    "        md += \"\\nexcerpt: '\" + html_escape(item.excerpt) + \"'\"\n",
    "    \n",
    "    md += \"\\ndate: \" + str(item.pub_date) \n",
    "    \n",
    "    md += \"\\nvenue: '\" + html_escape(item.venue) + \"'\"\n",
    "    \n",
    "    if len(str(item.paper_url)) > 5:\n",
    "        md += \"\\npaperurl: '\" + item.paper_url + \"'\"\n",
    "    \n",
    "    #md += \"\\ncitation: '\" + html_escape(item.citation) + \"'\"\n",
    "    \n",
    "    md += \"\\n---\"\n",
    "    \n",
    "    ## Markdown description for individual page\n",
    "        \n",
    "    if len(str(item.excerpt)) > 5:\n",
    "        md += \"\\n\" + html_escape(item.excerpt) + \"\\n\"\n",
    "    \n",
    "    #if len(str(item.paper_url)) > 5:\n",
    "        #md += \"\\n[Download paper here](\" + item.paper_url + \")\\n\" \n",
    "        \n",
    "    #md += \"\\nRecommended citation: \" + item.citation\n",
    "    \n",
    "    md_filename = os.path.basename(md_filename)\n",
    "    print(md_filename)   \n",
    "    with open(\"../_publications/\" + md_filename, 'w') as f:\n",
    "            f.write(md)"
   ]
  },
  {
   "cell_type": "markdown",
   "metadata": {},
   "source": [
    "These files are in the publications directory, one directory below where we're working from."
   ]
  },
  {
   "cell_type": "code",
   "execution_count": 20,
   "metadata": {},
   "outputs": [
    {
     "name": "stdout",
     "output_type": "stream",
     "text": [
      "2014-09-22-fragmentation-plates.md\n",
      "2017-09-12-cy3-quantum-dot.md\n",
      "2020-02-10-nonparametrics-bayes-spt.md\n",
      "2020-12-03-paper-bayesian-phys-distancing.md\n",
      "2021-04-08-vaccine.md\n",
      "2021-06-01-leeway.md\n",
      "2022-06-01 -age-structured-bc-COVID.md\n",
      "2024-06-03-source-att-salmonella-review.md\n"
     ]
    }
   ],
   "source": [
    "!ls ../_publications/"
   ]
  },
  {
   "cell_type": "code",
   "execution_count": 21,
   "metadata": {},
   "outputs": [
    {
     "name": "stderr",
     "output_type": "stream",
     "text": [
      "cat: ../_publications/2009-10-01-paper-title-number-1.md: No such file or directory\n"
     ]
    }
   ],
   "source": [
    "!cat ../_publications/2009-10-01-paper-title-number-1.md"
   ]
  },
  {
   "cell_type": "code",
   "execution_count": null,
   "metadata": {
    "collapsed": true
   },
   "outputs": [],
   "source": []
  }
 ],
 "metadata": {
  "kernelspec": {
   "display_name": "webpage-git",
   "language": "python",
   "name": "python3"
  },
  "language_info": {
   "codemirror_mode": {
    "name": "ipython",
    "version": 3
   },
   "file_extension": ".py",
   "mimetype": "text/x-python",
   "name": "python",
   "nbconvert_exporter": "python",
   "pygments_lexer": "ipython3",
   "version": "3.9.6"
  }
 },
 "nbformat": 4,
 "nbformat_minor": 1
}
